{
 "cells": [
  {
   "cell_type": "code",
   "execution_count": 1,
   "id": "0a8a069f-22c7-494a-ae6f-0e49cba8343d",
   "metadata": {},
   "outputs": [
    {
     "name": "stdin",
     "output_type": "stream",
     "text": [
      "Enter a first number : 45\n",
      "Enter a second number : 45\n"
     ]
    },
    {
     "name": "stdout",
     "output_type": "stream",
     "text": [
      "90\n"
     ]
    }
   ],
   "source": [
    "# Calculate the sum, difference, product, and quotient of two numbers.\n",
    "a=int(input(\"Enter a first number :\"))\n",
    "b=int(input(\"Enter a second number :\"))\n",
    "sum=a+b\n",
    "print(sum)\n"
   ]
  },
  {
   "cell_type": "code",
   "execution_count": 3,
   "id": "23e99ada-dc7a-444d-bea1-ee6d5fb724e4",
   "metadata": {},
   "outputs": [
    {
     "name": "stdin",
     "output_type": "stream",
     "text": [
      "Enter a first number : 56\n",
      "Enter a second number : 34\n"
     ]
    },
    {
     "name": "stdout",
     "output_type": "stream",
     "text": [
      "22\n"
     ]
    }
   ],
   "source": [
    "a=int(input(\"Enter a first number :\"))\n",
    "b=int(input(\"Enter a second number :\"))\n",
    "difference=a-b\n",
    "print(difference)"
   ]
  },
  {
   "cell_type": "code",
   "execution_count": 4,
   "id": "0a5254bb-670c-42e4-a6a4-2c6199dd772d",
   "metadata": {},
   "outputs": [
    {
     "name": "stdin",
     "output_type": "stream",
     "text": [
      "Enter a first number : 4\n",
      "Enter a second number : 5\n"
     ]
    },
    {
     "name": "stdout",
     "output_type": "stream",
     "text": [
      "20\n"
     ]
    }
   ],
   "source": [
    "a=int(input(\"Enter a first number :\"))\n",
    "b=int(input(\"Enter a second number :\"))\n",
    "product=a*b\n",
    "print(product)"
   ]
  },
  {
   "cell_type": "code",
   "execution_count": 5,
   "id": "e8a8b3af-5faa-4ab2-bb77-5b11afe4a482",
   "metadata": {},
   "outputs": [
    {
     "name": "stdin",
     "output_type": "stream",
     "text": [
      "Enter a first number : 80\n",
      "Enter a second number : 20\n"
     ]
    },
    {
     "name": "stdout",
     "output_type": "stream",
     "text": [
      "4.0\n"
     ]
    }
   ],
   "source": [
    "a=int(input(\"Enter a first number :\"))\n",
    "b=int(input(\"Enter a second number :\"))\n",
    "quotient=a/b\n",
    "print(quotient)"
   ]
  },
  {
   "cell_type": "code",
   "execution_count": 8,
   "id": "43f85b02-61c5-44cf-8126-a89a96f0af10",
   "metadata": {},
   "outputs": [
    {
     "data": {
      "text/plain": [
       "False"
      ]
     },
     "execution_count": 8,
     "metadata": {},
     "output_type": "execute_result"
    }
   ],
   "source": [
    "# Perform various assignment operations on a variable.\n",
    "r==56\n",
    "f==45\n",
    "r==f"
   ]
  },
  {
   "cell_type": "code",
   "execution_count": 11,
   "id": "b00ec3b1-f476-4b2c-a2fb-5960160643a8",
   "metadata": {},
   "outputs": [
    {
     "data": {
      "text/plain": [
       "True"
      ]
     },
     "execution_count": 11,
     "metadata": {},
     "output_type": "execute_result"
    }
   ],
   "source": [
    "r==56\n",
    "f==56\n",
    "r==f"
   ]
  },
  {
   "cell_type": "code",
   "execution_count": 15,
   "id": "6cbdc77a-0ba1-439a-aba3-bc4a115c6380",
   "metadata": {},
   "outputs": [
    {
     "name": "stdin",
     "output_type": "stream",
     "text": [
      "Enter a first number:  45\n",
      "Enter a second number:  677\n"
     ]
    },
    {
     "name": "stdout",
     "output_type": "stream",
     "text": [
      " given number is not equal\n"
     ]
    }
   ],
   "source": [
    " # Compare two numbers and print the results.\n",
    "b=int(input(\"Enter a first number: \"))\n",
    "a=int(input(\"Enter a second number: \"))\n",
    "if a==b:\n",
    "  print(\" given number is equal\")\n",
    "else:\n",
    "  print(\" given number is not equal\")"
   ]
  },
  {
   "cell_type": "code",
   "execution_count": 19,
   "id": "3756b4f6-ff1f-4794-88e6-b891afb97858",
   "metadata": {},
   "outputs": [
    {
     "name": "stdout",
     "output_type": "stream",
     "text": [
      "you take a umberalla \n"
     ]
    }
   ],
   "source": [
    "# Check conditions using logical operators.\n",
    "sunny=1\n",
    "rain =2\n",
    "if a and b:\n",
    "   print(\"you take a umberalla \")\n",
    "else:\n",
    "   print(\"you not take a umberalla \")"
   ]
  },
  {
   "cell_type": "code",
   "execution_count": 20,
   "id": "c4fd8172-0579-4560-b3b8-adc509138895",
   "metadata": {},
   "outputs": [
    {
     "name": "stdout",
     "output_type": "stream",
     "text": [
      "True\n",
      "False\n",
      "True\n"
     ]
    }
   ],
   "source": [
    "# Check the identity of variables.\n",
    "x = [\"apple\", \"banana\"]\n",
    "y = [\"apple\", \"banana\"]\n",
    "z = x\n",
    "\n",
    "print(x is z)\n",
    "\n",
    "# returns True because z is the same object as x\n",
    "\n",
    "print(x is y)\n",
    "\n",
    "# returns False because x is not the same object as y, even if they have the same content\n",
    "\n",
    "print(x == y)\n",
    "\n",
    "# to demonstrate the difference betweeen \"is\" and \"==\": this comparison returns True because x is equal to y\n"
   ]
  },
  {
   "cell_type": "code",
   "execution_count": 21,
   "id": "f9d77a79-73f0-41a0-b4e8-5c77a09ca26c",
   "metadata": {},
   "outputs": [
    {
     "name": "stdout",
     "output_type": "stream",
     "text": [
      "a | b = 14\n"
     ]
    }
   ],
   "source": [
    "# Perform bitwise operations on any two integers.\n",
    "a = 10\n",
    "b = 4\n",
    "\n",
    "# Print bitwise OR operation\n",
    "print(\"a | b =\", a | b)\n"
   ]
  },
  {
   "cell_type": "code",
   "execution_count": 27,
   "id": "e79d3361-1ee4-4884-9a58-9bd19f816914",
   "metadata": {},
   "outputs": [
    {
     "data": {
      "text/plain": [
       "90"
      ]
     },
     "execution_count": 27,
     "metadata": {},
     "output_type": "execute_result"
    }
   ],
   "source": [
    "# Use unary operators to change the sign of a number.\n",
    "my_first_number = 34\n",
    "my_second_number = 56\n",
    "my_first_number += my_second_number\n",
    "my_first_number\n"
   ]
  },
  {
   "cell_type": "code",
   "execution_count": 31,
   "id": "4ebb92db-a3eb-4a5f-b059-b2a6632c76a5",
   "metadata": {},
   "outputs": [
    {
     "name": "stdout",
     "output_type": "stream",
     "text": [
      "Even\n"
     ]
    }
   ],
   "source": [
    "# Use the ternary operator to assign values based on conditions.\n",
    "n = 56\n",
    "b = \"Even\" if n % 2 == 0 else \"Odd\"\n",
    "print(b)  \n"
   ]
  },
  {
   "cell_type": "code",
   "execution_count": null,
   "id": "d833c9ca-9509-4f4e-a965-97dd21011210",
   "metadata": {},
   "outputs": [],
   "source": []
  }
 ],
 "metadata": {
  "kernelspec": {
   "display_name": "Python 3 (ipykernel)",
   "language": "python",
   "name": "python3"
  },
  "language_info": {
   "codemirror_mode": {
    "name": "ipython",
    "version": 3
   },
   "file_extension": ".py",
   "mimetype": "text/x-python",
   "name": "python",
   "nbconvert_exporter": "python",
   "pygments_lexer": "ipython3",
   "version": "3.12.4"
  }
 },
 "nbformat": 4,
 "nbformat_minor": 5
}
